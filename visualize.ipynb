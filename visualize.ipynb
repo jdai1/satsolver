{
 "cells": [
  {
   "cell_type": "code",
   "execution_count": 3,
   "metadata": {},
   "outputs": [],
   "source": [
    "reference = {\n",
    "    \"C1065_064.cnf\": \"UNSAT\",\n",
    "    \"C1065_082.cnf\": \"UNSAT\",\n",
    "    \"C140.cnf\": \"SAT\",\n",
    "    \"C1597_024.cnf\": \"SAT\",\n",
    "    \"C1597_060.cnf\": \"SAT\",\n",
    "    \"C1597_081.cnf\": \"SAT\",\n",
    "    \"C168_128.cnf\": \"UNSAT\",\n",
    "    \"C175_145.cnf\": \"SAT\",\n",
    "    \"C181_3151.cnf\": \"SAT\",\n",
    "    \"C200_1806.cnf\": \"UNSAT\",\n",
    "    \"C208_120.cnf\": \"UNSAT\",\n",
    "    \"C208_3254.cnf\": \"UNSAT\",\n",
    "    \"C210_30.cnf\": \"UNSAT\",\n",
    "    \"C210_55.cnf\": \"UNSAT\",\n",
    "    \"C243_188.cnf\": \"SAT\",\n",
    "    \"C289_179.cnf\": \"UNSAT\",\n",
    "    \"C459_4675.cnf\": \"SAT\",\n",
    "    \"C53_895.cnf\": \"UNSAT\",\n",
    "    \"U50_1065_038.cnf\": \"UNSAT\",\n",
    "    \"U50_1065_045.cnf\": \"UNSAT\",\n",
    "    \"U50_4450_035.cnf\": \"SAT\",\n",
    "    \"U75_1597_024.cnf\": \"SAT\",\n",
    "}"
   ]
  },
  {
   "cell_type": "code",
   "execution_count": 2,
   "metadata": {},
   "outputs": [],
   "source": [
    "import json\n",
    "\n",
    "def compute_data_from_log(log_filepath: str) -> list:\n",
    "    data = []\n",
    "    with open(log_filepath, \"r\") as f:\n",
    "        for line in f:\n",
    "            res = json.loads(line.strip())\n",
    "            if \"Solution\" in res:\n",
    "                del res[\"Solution\"]\n",
    "            filename = res[\"Instance\"]\n",
    "            reference_output = reference[res[\"Instance\"]]\n",
    "            computed_output = res[\"Result\"]\n",
    "            if computed_output != \"--\":\n",
    "                correct = reference_output == computed_output\n",
    "                if not correct:\n",
    "                    print(f\"{filename}: Expected {reference_output}, but got {computed_output}\")\n",
    "            data.append({\n",
    "                \"Filename\": filename,\n",
    "                \"Time\": res[\"Time\"],\n",
    "            })\n",
    "    \n",
    "    unsolved = [r[\"Filename\"] for r in data if r[\"Time\"] == \"--\"]\n",
    "    print(\"Unsolved:\", unsolved)\n",
    "    total_sum = sum([float(r[\"Time\"]) for r in data if r[\"Time\"] != \"--\"])\n",
    "    print(\"sum:\", total_sum + len(unsolved) * 300)\n",
    "    return data"
   ]
  },
  {
   "cell_type": "code",
   "execution_count": 40,
   "metadata": {},
   "outputs": [
    {
     "name": "stdout",
     "output_type": "stream",
     "text": [
      "Unsolved: ['C1065_064.cnf', 'C1065_082.cnf', 'C1597_024.cnf', 'C1597_060.cnf', 'C1597_081.cnf', 'C175_145.cnf', 'C200_1806.cnf', 'C208_120.cnf', 'C210_55.cnf', 'C243_188.cnf', 'C289_179.cnf', 'C53_895.cnf', 'U50_4450_035.cnf', 'U75_1597_024.cnf']\n"
     ]
    },
    {
     "data": {
      "text/plain": [
       "[{'Filename': 'C1065_064.cnf', 'Time': '--'},\n",
       " {'Filename': 'C1065_082.cnf', 'Time': '--'},\n",
       " {'Filename': 'C140.cnf', 'Time': '1.67'},\n",
       " {'Filename': 'C1597_024.cnf', 'Time': '--'},\n",
       " {'Filename': 'C1597_060.cnf', 'Time': '--'},\n",
       " {'Filename': 'C1597_081.cnf', 'Time': '--'},\n",
       " {'Filename': 'C168_128.cnf', 'Time': '26.50'},\n",
       " {'Filename': 'C175_145.cnf', 'Time': '--'},\n",
       " {'Filename': 'C181_3151.cnf', 'Time': '13.57'},\n",
       " {'Filename': 'C200_1806.cnf', 'Time': '--'},\n",
       " {'Filename': 'C208_120.cnf', 'Time': '--'},\n",
       " {'Filename': 'C208_3254.cnf', 'Time': '2.35'},\n",
       " {'Filename': 'C210_30.cnf', 'Time': '31.68'},\n",
       " {'Filename': 'C210_55.cnf', 'Time': '--'},\n",
       " {'Filename': 'C243_188.cnf', 'Time': '--'},\n",
       " {'Filename': 'C289_179.cnf', 'Time': '--'},\n",
       " {'Filename': 'C459_4675.cnf', 'Time': '24.21'},\n",
       " {'Filename': 'C53_895.cnf', 'Time': '--'},\n",
       " {'Filename': 'U50_1065_038.cnf', 'Time': '213.89'},\n",
       " {'Filename': 'U50_1065_045.cnf', 'Time': '286.38'},\n",
       " {'Filename': 'U50_4450_035.cnf', 'Time': '--'},\n",
       " {'Filename': 'U75_1597_024.cnf', 'Time': '--'}]"
      ]
     },
     "execution_count": 40,
     "metadata": {},
     "output_type": "execute_result"
    }
   ],
   "source": [
    "log_filepath = \"./log/results-base.log\"\n",
    "compute_data_from_log(log_filepath)"
   ]
  },
  {
   "cell_type": "code",
   "execution_count": 42,
   "metadata": {},
   "outputs": [
    {
     "name": "stdout",
     "output_type": "stream",
     "text": [
      "Unsolved: ['C1597_024.cnf', 'C1597_060.cnf', 'C1597_081.cnf', 'C175_145.cnf', 'C200_1806.cnf']\n"
     ]
    },
    {
     "data": {
      "text/plain": [
       "[{'Filename': 'C1065_064.cnf', 'Time': '256.35'},\n",
       " {'Filename': 'C1065_082.cnf', 'Time': '253.61'},\n",
       " {'Filename': 'C140.cnf', 'Time': '1.43'},\n",
       " {'Filename': 'C1597_024.cnf', 'Time': '--'},\n",
       " {'Filename': 'C1597_060.cnf', 'Time': '--'},\n",
       " {'Filename': 'C1597_081.cnf', 'Time': '--'},\n",
       " {'Filename': 'C168_128.cnf', 'Time': '5.25'},\n",
       " {'Filename': 'C175_145.cnf', 'Time': '--'},\n",
       " {'Filename': 'C181_3151.cnf', 'Time': '7.33'},\n",
       " {'Filename': 'C200_1806.cnf', 'Time': '--'}]"
      ]
     },
     "execution_count": 42,
     "metadata": {},
     "output_type": "execute_result"
    }
   ],
   "source": [
    "log_filepath = \"./log/results-no-copy.log\"\n",
    "compute_data_from_log(log_filepath)"
   ]
  },
  {
   "cell_type": "code",
   "execution_count": 64,
   "metadata": {},
   "outputs": [
    {
     "name": "stdout",
     "output_type": "stream",
     "text": [
      "Unsolved: ['C175_145.cnf', 'C200_1806.cnf', 'C243_188.cnf', 'C289_179.cnf', 'C53_895.cnf', 'U50_4450_035.cnf']\n",
      "sum: 2377.65\n"
     ]
    },
    {
     "data": {
      "text/plain": [
       "[{'Filename': 'C1065_064.cnf', 'Time': '52.41'},\n",
       " {'Filename': 'C1065_082.cnf', 'Time': '31.68'},\n",
       " {'Filename': 'C140.cnf', 'Time': '0.05'},\n",
       " {'Filename': 'C1597_024.cnf', 'Time': '139.01'},\n",
       " {'Filename': 'C1597_060.cnf', 'Time': '88.19'},\n",
       " {'Filename': 'C1597_081.cnf', 'Time': '11.95'},\n",
       " {'Filename': 'C168_128.cnf', 'Time': '1.74'},\n",
       " {'Filename': 'C175_145.cnf', 'Time': '--'},\n",
       " {'Filename': 'C181_3151.cnf', 'Time': '0.84'},\n",
       " {'Filename': 'C200_1806.cnf', 'Time': '--'},\n",
       " {'Filename': 'C208_120.cnf', 'Time': '0.96'},\n",
       " {'Filename': 'C208_3254.cnf', 'Time': '2.17'},\n",
       " {'Filename': 'C210_30.cnf', 'Time': '0.06'},\n",
       " {'Filename': 'C210_55.cnf', 'Time': '0.24'},\n",
       " {'Filename': 'C243_188.cnf', 'Time': '--'},\n",
       " {'Filename': 'C289_179.cnf', 'Time': '--'},\n",
       " {'Filename': 'C459_4675.cnf', 'Time': '0.31'},\n",
       " {'Filename': 'C53_895.cnf', 'Time': '--'},\n",
       " {'Filename': 'U50_1065_038.cnf', 'Time': '46.37'},\n",
       " {'Filename': 'U50_1065_045.cnf', 'Time': '67.51'},\n",
       " {'Filename': 'U50_4450_035.cnf', 'Time': '--'},\n",
       " {'Filename': 'U75_1597_024.cnf', 'Time': '134.16'}]"
      ]
     },
     "execution_count": 64,
     "metadata": {},
     "output_type": "execute_result"
    }
   ],
   "source": [
    "log_filepath = \"./log/results-dppl2.log\"\n",
    "compute_data_from_log(log_filepath)"
   ]
  },
  {
   "cell_type": "code",
   "execution_count": 4,
   "metadata": {},
   "outputs": [
    {
     "name": "stdout",
     "output_type": "stream",
     "text": [
      "Unsolved: ['C1597_024.cnf', 'C175_145.cnf', 'C200_1806.cnf', 'C243_188.cnf', 'C289_179.cnf', 'C53_895.cnf', 'U50_4450_035.cnf', 'U75_1597_024.cnf']\n",
      "sum: 2846.63\n"
     ]
    },
    {
     "data": {
      "text/plain": [
       "[{'Filename': 'C1065_064.cnf', 'Time': '63.30'},\n",
       " {'Filename': 'C1065_082.cnf', 'Time': '42.39'},\n",
       " {'Filename': 'C140.cnf', 'Time': '0.04'},\n",
       " {'Filename': 'C1597_024.cnf', 'Time': '--'},\n",
       " {'Filename': 'C1597_060.cnf', 'Time': '132.69'},\n",
       " {'Filename': 'C1597_081.cnf', 'Time': '92.53'},\n",
       " {'Filename': 'C168_128.cnf', 'Time': '0.98'},\n",
       " {'Filename': 'C175_145.cnf', 'Time': '--'},\n",
       " {'Filename': 'C181_3151.cnf', 'Time': '6.69'},\n",
       " {'Filename': 'C200_1806.cnf', 'Time': '--'},\n",
       " {'Filename': 'C208_120.cnf', 'Time': '0.64'},\n",
       " {'Filename': 'C208_3254.cnf', 'Time': '1.46'},\n",
       " {'Filename': 'C210_30.cnf', 'Time': '0.04'},\n",
       " {'Filename': 'C210_55.cnf', 'Time': '0.58'},\n",
       " {'Filename': 'C243_188.cnf', 'Time': '--'},\n",
       " {'Filename': 'C289_179.cnf', 'Time': '--'},\n",
       " {'Filename': 'C459_4675.cnf', 'Time': '0.28'},\n",
       " {'Filename': 'C53_895.cnf', 'Time': '--'},\n",
       " {'Filename': 'U50_1065_038.cnf', 'Time': '46.49'},\n",
       " {'Filename': 'U50_1065_045.cnf', 'Time': '58.52'},\n",
       " {'Filename': 'U50_4450_035.cnf', 'Time': '--'},\n",
       " {'Filename': 'U75_1597_024.cnf', 'Time': '--'}]"
      ]
     },
     "execution_count": 4,
     "metadata": {},
     "output_type": "execute_result"
    }
   ],
   "source": [
    "log_filepath = \"./results-randomized-dlcs.log\"\n",
    "compute_data_from_log(log_filepath)"
   ]
  },
  {
   "cell_type": "code",
   "execution_count": 54,
   "metadata": {},
   "outputs": [
    {
     "data": {
      "text/plain": [
       "[('U50_1065_045.cnf', 19775),\n",
       " ('C1065_064.cnf', 19844),\n",
       " ('U50_1065_038.cnf', 19864),\n",
       " ('C1065_082.cnf', 19877),\n",
       " ('C1597_024.cnf', 30158),\n",
       " ('U75_1597_024.cnf', 30158),\n",
       " ('C1597_060.cnf', 30218),\n",
       " ('C1597_081.cnf', 30291),\n",
       " ('C200_1806.cnf', 32161),\n",
       " ('C181_3151.cnf', 36885),\n",
       " ('C459_4675.cnf', 59299),\n",
       " ('C208_120.cnf', 61633),\n",
       " ('C168_128.cnf', 72588),\n",
       " ('C210_55.cnf', 82972),\n",
       " ('C140.cnf', 95632),\n",
       " ('U50_4450_035.cnf', 112223),\n",
       " ('C210_30.cnf', 126865),\n",
       " ('C208_3254.cnf', 143054),\n",
       " ('C175_145.cnf', 520983),\n",
       " ('C53_895.cnf', 1516599),\n",
       " ('C289_179.cnf', 3949938),\n",
       " ('C243_188.cnf', 30512332)]"
      ]
     },
     "execution_count": 54,
     "metadata": {},
     "output_type": "execute_result"
    }
   ],
   "source": [
    "\n",
    "d = {}\n",
    "for filepath in reference:\n",
    "    with open(f\"./input/{filepath}\") as f:\n",
    "        d[filepath] = len(f.read())\n",
    "\n",
    "sorted(d.items(), key=lambda x: x[1])"
   ]
  },
  {
   "cell_type": "code",
   "execution_count": null,
   "metadata": {},
   "outputs": [],
   "source": []
  }
 ],
 "metadata": {
  "kernelspec": {
   "display_name": "prescriptive",
   "language": "python",
   "name": "python3"
  },
  "language_info": {
   "codemirror_mode": {
    "name": "ipython",
    "version": 3
   },
   "file_extension": ".py",
   "mimetype": "text/x-python",
   "name": "python",
   "nbconvert_exporter": "python",
   "pygments_lexer": "ipython3",
   "version": "3.10.16"
  }
 },
 "nbformat": 4,
 "nbformat_minor": 2
}
