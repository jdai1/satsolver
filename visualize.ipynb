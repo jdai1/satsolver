{
 "cells": [
  {
   "cell_type": "code",
   "execution_count": 2,
   "metadata": {},
   "outputs": [],
   "source": [
    "reference = {\n",
    "    \"C1065_064.cnf\": \"UNSAT\",\n",
    "    \"C1065_082.cnf\": \"UNSAT\",\n",
    "    \"C140.cnf\": \"SAT\",\n",
    "    \"C1597_024.cnf\": \"SAT\",\n",
    "    \"C1597_060.cnf\": \"SAT\",\n",
    "    \"C1597_081.cnf\": \"SAT\",\n",
    "    \"C168_128.cnf\": \"UNSAT\",\n",
    "    \"C175_145.cnf\": \"SAT\",\n",
    "    \"C181_3151.cnf\": \"SAT\",\n",
    "    \"C200_1806.cnf\": \"UNSAT\",\n",
    "    \"C208_120.cnf\": \"UNSAT\",\n",
    "    \"C208_3254.cnf\": \"UNSAT\",\n",
    "    \"C210_30.cnf\": \"UNSAT\",\n",
    "    \"C210_55.cnf\": \"UNSAT\",\n",
    "    \"C243_188.cnf\": \"SAT\",\n",
    "    \"C289_179.cnf\": \"UNSAT\",\n",
    "    \"C459_4675.cnf\": \"SAT\",\n",
    "    \"C53_895.cnf\": \"UNSAT\",\n",
    "    \"U50_1065_038.cnf\": \"UNSAT\",\n",
    "    \"U50_1065_045.cnf\": \"UNSAT\",\n",
    "    \"U50_4450_035.cnf\": \"SAT\",\n",
    "    \"U75_1597_024.cnf\": \"SAT\",\n",
    "}"
   ]
  },
  {
   "cell_type": "code",
   "execution_count": 6,
   "metadata": {},
   "outputs": [],
   "source": [
    "import json\n",
    "\n",
    "def compute_data_from_log(log_filepath: str) -> list:\n",
    "    data = []\n",
    "    with open(log_filepath, \"r\") as f:\n",
    "        for line in f:\n",
    "            res = json.loads(line.strip())\n",
    "            if \"Solution\" in res:\n",
    "                del res[\"Solution\"]\n",
    "            filename = res[\"Instance\"]\n",
    "            reference_output = reference[res[\"Instance\"]]\n",
    "            computed_output = res[\"Result\"]\n",
    "            if computed_output != \"--\":\n",
    "                correct = reference_output == computed_output\n",
    "                if not correct:\n",
    "                    print(f\"{filename}: Expected {reference_output}, but got {computed_output}\")\n",
    "            data.append({\n",
    "                \"Filename\": filename,\n",
    "                \"Time\": res[\"Time\"],\n",
    "            })\n",
    "    \n",
    "    unsolved = [r[\"Filename\"] for r in data if r[\"Time\"] == \"--\"]\n",
    "    print(\"Unsolved:\", unsolved)\n",
    "    total_sum = sum([float(r[\"Time\"]) for r in data if r[\"Time\"] != \"--\"])\n",
    "    print(\"sum:\", total_sum + len(unsolved) * 300)\n",
    "\n",
    "    data = sorted(data, key=lambda x: x[\"Filename\"])\n",
    "    return data"
   ]
  },
  {
   "cell_type": "code",
   "execution_count": 7,
   "metadata": {},
   "outputs": [
    {
     "name": "stdout",
     "output_type": "stream",
     "text": [
      "Unsolved: ['C1065_064.cnf', 'C1065_082.cnf', 'C1597_024.cnf', 'C1597_060.cnf', 'C1597_081.cnf', 'C175_145.cnf', 'C200_1806.cnf', 'C208_120.cnf', 'C210_55.cnf', 'C243_188.cnf', 'C289_179.cnf', 'C53_895.cnf', 'U50_4450_035.cnf', 'U75_1597_024.cnf']\n",
      "sum: 4800.25\n"
     ]
    },
    {
     "data": {
      "text/plain": [
       "[{'Filename': 'C1065_064.cnf', 'Time': '--'},\n",
       " {'Filename': 'C1065_082.cnf', 'Time': '--'},\n",
       " {'Filename': 'C140.cnf', 'Time': '1.67'},\n",
       " {'Filename': 'C1597_024.cnf', 'Time': '--'},\n",
       " {'Filename': 'C1597_060.cnf', 'Time': '--'},\n",
       " {'Filename': 'C1597_081.cnf', 'Time': '--'},\n",
       " {'Filename': 'C168_128.cnf', 'Time': '26.50'},\n",
       " {'Filename': 'C175_145.cnf', 'Time': '--'},\n",
       " {'Filename': 'C181_3151.cnf', 'Time': '13.57'},\n",
       " {'Filename': 'C200_1806.cnf', 'Time': '--'},\n",
       " {'Filename': 'C208_120.cnf', 'Time': '--'},\n",
       " {'Filename': 'C208_3254.cnf', 'Time': '2.35'},\n",
       " {'Filename': 'C210_30.cnf', 'Time': '31.68'},\n",
       " {'Filename': 'C210_55.cnf', 'Time': '--'},\n",
       " {'Filename': 'C243_188.cnf', 'Time': '--'},\n",
       " {'Filename': 'C289_179.cnf', 'Time': '--'},\n",
       " {'Filename': 'C459_4675.cnf', 'Time': '24.21'},\n",
       " {'Filename': 'C53_895.cnf', 'Time': '--'},\n",
       " {'Filename': 'U50_1065_038.cnf', 'Time': '213.89'},\n",
       " {'Filename': 'U50_1065_045.cnf', 'Time': '286.38'},\n",
       " {'Filename': 'U50_4450_035.cnf', 'Time': '--'},\n",
       " {'Filename': 'U75_1597_024.cnf', 'Time': '--'}]"
      ]
     },
     "execution_count": 7,
     "metadata": {},
     "output_type": "execute_result"
    }
   ],
   "source": [
    "log_filepath = \"./log/results-base.log\"\n",
    "compute_data_from_log(log_filepath)"
   ]
  },
  {
   "cell_type": "code",
   "execution_count": 8,
   "metadata": {},
   "outputs": [
    {
     "name": "stdout",
     "output_type": "stream",
     "text": [
      "Unsolved: ['C1597_024.cnf', 'C1597_060.cnf', 'C1597_081.cnf', 'C175_145.cnf', 'C200_1806.cnf']\n",
      "sum: 2023.9700000000003\n"
     ]
    },
    {
     "data": {
      "text/plain": [
       "[{'Filename': 'C1065_064.cnf', 'Time': '256.35'},\n",
       " {'Filename': 'C1065_082.cnf', 'Time': '253.61'},\n",
       " {'Filename': 'C140.cnf', 'Time': '1.43'},\n",
       " {'Filename': 'C1597_024.cnf', 'Time': '--'},\n",
       " {'Filename': 'C1597_060.cnf', 'Time': '--'},\n",
       " {'Filename': 'C1597_081.cnf', 'Time': '--'},\n",
       " {'Filename': 'C168_128.cnf', 'Time': '5.25'},\n",
       " {'Filename': 'C175_145.cnf', 'Time': '--'},\n",
       " {'Filename': 'C181_3151.cnf', 'Time': '7.33'},\n",
       " {'Filename': 'C200_1806.cnf', 'Time': '--'}]"
      ]
     },
     "execution_count": 8,
     "metadata": {},
     "output_type": "execute_result"
    }
   ],
   "source": [
    "log_filepath = \"./log/results-no-copy.log\"\n",
    "compute_data_from_log(log_filepath)"
   ]
  },
  {
   "cell_type": "code",
   "execution_count": 39,
   "metadata": {},
   "outputs": [
    {
     "name": "stdout",
     "output_type": "stream",
     "text": [
      "Unsolved: ['C175_145.cnf', 'C200_1806.cnf', 'C243_188.cnf', 'C289_179.cnf', 'C53_895.cnf', 'U50_4450_035.cnf']\n",
      "sum: 2377.65\n"
     ]
    },
    {
     "data": {
      "text/plain": [
       "[{'Filename': 'C1065_064.cnf', 'Time': '52.41'},\n",
       " {'Filename': 'C1065_082.cnf', 'Time': '31.68'},\n",
       " {'Filename': 'C140.cnf', 'Time': '0.05'},\n",
       " {'Filename': 'C1597_024.cnf', 'Time': '139.01'},\n",
       " {'Filename': 'C1597_060.cnf', 'Time': '88.19'},\n",
       " {'Filename': 'C1597_081.cnf', 'Time': '11.95'},\n",
       " {'Filename': 'C168_128.cnf', 'Time': '1.74'},\n",
       " {'Filename': 'C175_145.cnf', 'Time': '--'},\n",
       " {'Filename': 'C181_3151.cnf', 'Time': '0.84'},\n",
       " {'Filename': 'C200_1806.cnf', 'Time': '--'},\n",
       " {'Filename': 'C208_120.cnf', 'Time': '0.96'},\n",
       " {'Filename': 'C208_3254.cnf', 'Time': '2.17'},\n",
       " {'Filename': 'C210_30.cnf', 'Time': '0.06'},\n",
       " {'Filename': 'C210_55.cnf', 'Time': '0.24'},\n",
       " {'Filename': 'C243_188.cnf', 'Time': '--'},\n",
       " {'Filename': 'C289_179.cnf', 'Time': '--'},\n",
       " {'Filename': 'C459_4675.cnf', 'Time': '0.31'},\n",
       " {'Filename': 'C53_895.cnf', 'Time': '--'},\n",
       " {'Filename': 'U50_1065_038.cnf', 'Time': '46.37'},\n",
       " {'Filename': 'U50_1065_045.cnf', 'Time': '67.51'},\n",
       " {'Filename': 'U50_4450_035.cnf', 'Time': '--'},\n",
       " {'Filename': 'U75_1597_024.cnf', 'Time': '134.16'}]"
      ]
     },
     "execution_count": 39,
     "metadata": {},
     "output_type": "execute_result"
    }
   ],
   "source": [
    "log_filepath = \"./log/dpll2-dlcs.log\" # One-by-one runs\n",
    "compute_data_from_log(log_filepath)"
   ]
  },
  {
   "cell_type": "code",
   "execution_count": 40,
   "metadata": {},
   "outputs": [
    {
     "name": "stdout",
     "output_type": "stream",
     "text": [
      "Unsolved: ['C1597_060.cnf', 'C175_145.cnf', 'C200_1806.cnf', 'C243_188.cnf', 'C289_179.cnf', 'C53_895.cnf']\n",
      "sum: 2415.17\n"
     ]
    },
    {
     "data": {
      "text/plain": [
       "[{'Filename': 'C1065_064.cnf', 'Time': '54.18'},\n",
       " {'Filename': 'C1065_082.cnf', 'Time': '35.04'},\n",
       " {'Filename': 'C140.cnf', 'Time': '0.05'},\n",
       " {'Filename': 'C1597_024.cnf', 'Time': '188.32'},\n",
       " {'Filename': 'C1597_060.cnf', 'Time': '--'},\n",
       " {'Filename': 'C1597_081.cnf', 'Time': '235.39'},\n",
       " {'Filename': 'C168_128.cnf', 'Time': '2.38'},\n",
       " {'Filename': 'C175_145.cnf', 'Time': '--'},\n",
       " {'Filename': 'C181_3151.cnf', 'Time': '4.09'},\n",
       " {'Filename': 'C200_1806.cnf', 'Time': '--'},\n",
       " {'Filename': 'C208_120.cnf', 'Time': '1.09'},\n",
       " {'Filename': 'C208_3254.cnf', 'Time': '2.34'},\n",
       " {'Filename': 'C210_30.cnf', 'Time': '0.05'},\n",
       " {'Filename': 'C210_55.cnf', 'Time': '0.23'},\n",
       " {'Filename': 'C243_188.cnf', 'Time': '--'},\n",
       " {'Filename': 'C289_179.cnf', 'Time': '--'},\n",
       " {'Filename': 'C459_4675.cnf', 'Time': '0.31'},\n",
       " {'Filename': 'C53_895.cnf', 'Time': '--'},\n",
       " {'Filename': 'U50_1065_038.cnf', 'Time': '37.90'},\n",
       " {'Filename': 'U50_1065_045.cnf', 'Time': '53.80'}]"
      ]
     },
     "execution_count": 40,
     "metadata": {},
     "output_type": "execute_result"
    }
   ],
   "source": [
    "log_filepath = \"./log/dpll2-randomized-dlcs.log\" # One-by-one runs\n",
    "compute_data_from_log(log_filepath)"
   ]
  },
  {
   "cell_type": "code",
   "execution_count": null,
   "metadata": {},
   "outputs": [],
   "source": [
    "log_filepath = \"./log/dpll2-randomized-dlcs.log\" # One-by-one runs\n",
    "compute_data_from_log(log_filepath)"
   ]
  },
  {
   "cell_type": "code",
   "execution_count": 30,
   "metadata": {},
   "outputs": [
    {
     "name": "stdout",
     "output_type": "stream",
     "text": [
      "Unsolved: ['C53_895.cnf', 'C243_188.cnf', 'C175_145.cnf', 'C289_179.cnf', 'C200_1806.cnf', 'U50_4450_035.cnf']\n",
      "sum: 2713.8\n"
     ]
    },
    {
     "data": {
      "text/plain": [
       "[{'Filename': 'C1065_064.cnf', 'Time': '90.29'},\n",
       " {'Filename': 'C1065_082.cnf', 'Time': '55.16'},\n",
       " {'Filename': 'C140.cnf', 'Time': '0.10'},\n",
       " {'Filename': 'C1597_024.cnf', 'Time': '222.25'},\n",
       " {'Filename': 'C1597_060.cnf', 'Time': '135.75'},\n",
       " {'Filename': 'C1597_081.cnf', 'Time': '17.37'},\n",
       " {'Filename': 'C168_128.cnf', 'Time': '2.62'},\n",
       " {'Filename': 'C175_145.cnf', 'Time': '--'},\n",
       " {'Filename': 'C181_3151.cnf', 'Time': '1.72'},\n",
       " {'Filename': 'C200_1806.cnf', 'Time': '--'},\n",
       " {'Filename': 'C208_120.cnf', 'Time': '1.70'},\n",
       " {'Filename': 'C208_3254.cnf', 'Time': '2.82'},\n",
       " {'Filename': 'C210_30.cnf', 'Time': '0.17'},\n",
       " {'Filename': 'C210_55.cnf', 'Time': '0.44'},\n",
       " {'Filename': 'C243_188.cnf', 'Time': '--'},\n",
       " {'Filename': 'C289_179.cnf', 'Time': '--'},\n",
       " {'Filename': 'C459_4675.cnf', 'Time': '0.35'},\n",
       " {'Filename': 'C53_895.cnf', 'Time': '--'},\n",
       " {'Filename': 'U50_1065_038.cnf', 'Time': '78.33'},\n",
       " {'Filename': 'U50_1065_045.cnf', 'Time': '81.81'},\n",
       " {'Filename': 'U50_4450_035.cnf', 'Time': '--'},\n",
       " {'Filename': 'U75_1597_024.cnf', 'Time': '222.92'}]"
      ]
     },
     "execution_count": 30,
     "metadata": {},
     "output_type": "execute_result"
    }
   ],
   "source": [
    "log_filepath = \"./log/dpll2-dlcs-p.log\" # Parallelized runs\n",
    "compute_data_from_log(log_filepath)"
   ]
  },
  {
   "cell_type": "code",
   "execution_count": 31,
   "metadata": {},
   "outputs": [
    {
     "name": "stdout",
     "output_type": "stream",
     "text": [
      "Unsolved: ['C53_895.cnf', 'C243_188.cnf', 'C175_145.cnf', 'C289_179.cnf', 'C200_1806.cnf']\n",
      "sum: 2736.36\n"
     ]
    },
    {
     "data": {
      "text/plain": [
       "[{'Filename': 'C1065_064.cnf', 'Time': '120.00'},\n",
       " {'Filename': 'C1065_082.cnf', 'Time': '67.38'},\n",
       " {'Filename': 'C140.cnf', 'Time': '0.09'},\n",
       " {'Filename': 'C1597_024.cnf', 'Time': '273.36'},\n",
       " {'Filename': 'C1597_060.cnf', 'Time': '37.31'},\n",
       " {'Filename': 'C1597_081.cnf', 'Time': '182.96'},\n",
       " {'Filename': 'C168_128.cnf', 'Time': '0.90'},\n",
       " {'Filename': 'C175_145.cnf', 'Time': '--'},\n",
       " {'Filename': 'C181_3151.cnf', 'Time': '10.52'},\n",
       " {'Filename': 'C200_1806.cnf', 'Time': '--'},\n",
       " {'Filename': 'C208_120.cnf', 'Time': '1.48'},\n",
       " {'Filename': 'C208_3254.cnf', 'Time': '1.27'},\n",
       " {'Filename': 'C210_30.cnf', 'Time': '0.18'},\n",
       " {'Filename': 'C210_55.cnf', 'Time': '0.79'},\n",
       " {'Filename': 'C243_188.cnf', 'Time': '--'},\n",
       " {'Filename': 'C289_179.cnf', 'Time': '--'},\n",
       " {'Filename': 'C459_4675.cnf', 'Time': '0.33'},\n",
       " {'Filename': 'C53_895.cnf', 'Time': '--'},\n",
       " {'Filename': 'U50_1065_038.cnf', 'Time': '61.42'},\n",
       " {'Filename': 'U50_1065_045.cnf', 'Time': '84.03'},\n",
       " {'Filename': 'U50_4450_035.cnf', 'Time': '120.16'},\n",
       " {'Filename': 'U75_1597_024.cnf', 'Time': '274.18'}]"
      ]
     },
     "execution_count": 31,
     "metadata": {},
     "output_type": "execute_result"
    }
   ],
   "source": [
    "log_filepath = \"./log/dpll2-dlis-p.log\" # Parallelized runs\n",
    "compute_data_from_log(log_filepath)"
   ]
  },
  {
   "cell_type": "code",
   "execution_count": 33,
   "metadata": {},
   "outputs": [
    {
     "name": "stdout",
     "output_type": "stream",
     "text": [
      "Unsolved: ['C53_895.cnf', 'C1597_081.cnf', 'U75_1597_024.cnf', 'C1597_024.cnf', 'C243_188.cnf', 'C175_145.cnf', 'C289_179.cnf', 'C200_1806.cnf', 'U50_4450_035.cnf', 'C1597_060.cnf']\n",
      "sum: 3384.57\n"
     ]
    },
    {
     "data": {
      "text/plain": [
       "[{'Filename': 'C1065_064.cnf', 'Time': '140.81'},\n",
       " {'Filename': 'C1065_082.cnf', 'Time': '70.10'},\n",
       " {'Filename': 'C140.cnf', 'Time': '0.29'},\n",
       " {'Filename': 'C1597_024.cnf', 'Time': '--'},\n",
       " {'Filename': 'C1597_060.cnf', 'Time': '--'},\n",
       " {'Filename': 'C1597_081.cnf', 'Time': '--'},\n",
       " {'Filename': 'C168_128.cnf', 'Time': '1.68'},\n",
       " {'Filename': 'C175_145.cnf', 'Time': '--'},\n",
       " {'Filename': 'C181_3151.cnf', 'Time': '16.66'},\n",
       " {'Filename': 'C200_1806.cnf', 'Time': '--'},\n",
       " {'Filename': 'C208_120.cnf', 'Time': '1.26'},\n",
       " {'Filename': 'C208_3254.cnf', 'Time': '1.82'},\n",
       " {'Filename': 'C210_30.cnf', 'Time': '0.14'},\n",
       " {'Filename': 'C210_55.cnf', 'Time': '0.90'},\n",
       " {'Filename': 'C243_188.cnf', 'Time': '--'},\n",
       " {'Filename': 'C289_179.cnf', 'Time': '--'},\n",
       " {'Filename': 'C459_4675.cnf', 'Time': '0.23'},\n",
       " {'Filename': 'C53_895.cnf', 'Time': '--'},\n",
       " {'Filename': 'U50_1065_038.cnf', 'Time': '54.11'},\n",
       " {'Filename': 'U50_1065_045.cnf', 'Time': '96.57'},\n",
       " {'Filename': 'U50_4450_035.cnf', 'Time': '--'},\n",
       " {'Filename': 'U75_1597_024.cnf', 'Time': '--'}]"
      ]
     },
     "execution_count": 33,
     "metadata": {},
     "output_type": "execute_result"
    }
   ],
   "source": [
    "log_filepath = \"./log/dpll2-randomized-dlis-p.log\" # Parallelized runs\n",
    "compute_data_from_log(log_filepath)"
   ]
  },
  {
   "cell_type": "code",
   "execution_count": 35,
   "metadata": {},
   "outputs": [
    {
     "name": "stdout",
     "output_type": "stream",
     "text": [
      "Unsolved: ['C53_895.cnf', 'C243_188.cnf', 'C175_145.cnf', 'C289_179.cnf', 'C200_1806.cnf', 'U50_4450_035.cnf', 'C1597_060.cnf']\n",
      "sum: 2449.84\n"
     ]
    },
    {
     "data": {
      "text/plain": [
       "[{'Filename': 'C1065_064.cnf', 'Time': '75.62'},\n",
       " {'Filename': 'C1065_082.cnf', 'Time': '52.37'},\n",
       " {'Filename': 'C140.cnf', 'Time': '0.10'},\n",
       " {'Filename': 'C1597_024.cnf', 'Time': '37.85'},\n",
       " {'Filename': 'C1597_060.cnf', 'Time': '--'},\n",
       " {'Filename': 'C1597_081.cnf', 'Time': '12.32'},\n",
       " {'Filename': 'C168_128.cnf', 'Time': '2.39'},\n",
       " {'Filename': 'C175_145.cnf', 'Time': '--'},\n",
       " {'Filename': 'C181_3151.cnf', 'Time': '2.52'},\n",
       " {'Filename': 'C200_1806.cnf', 'Time': '--'},\n",
       " {'Filename': 'C208_120.cnf', 'Time': '1.79'},\n",
       " {'Filename': 'C208_3254.cnf', 'Time': '4.09'},\n",
       " {'Filename': 'C210_30.cnf', 'Time': '0.09'},\n",
       " {'Filename': 'C210_55.cnf', 'Time': '0.56'},\n",
       " {'Filename': 'C243_188.cnf', 'Time': '--'},\n",
       " {'Filename': 'C289_179.cnf', 'Time': '--'},\n",
       " {'Filename': 'C459_4675.cnf', 'Time': '0.20'},\n",
       " {'Filename': 'C53_895.cnf', 'Time': '--'},\n",
       " {'Filename': 'U50_1065_038.cnf', 'Time': '78.40'},\n",
       " {'Filename': 'U50_1065_045.cnf', 'Time': '69.65'},\n",
       " {'Filename': 'U50_4450_035.cnf', 'Time': '--'},\n",
       " {'Filename': 'U75_1597_024.cnf', 'Time': '11.89'}]"
      ]
     },
     "execution_count": 35,
     "metadata": {},
     "output_type": "execute_result"
    }
   ],
   "source": [
    "log_filepath = \"./log/dpll2-randomized-dlcs-p.log\" # Parallelized runs\n",
    "compute_data_from_log(log_filepath)"
   ]
  },
  {
   "cell_type": "code",
   "execution_count": 54,
   "metadata": {},
   "outputs": [
    {
     "data": {
      "text/plain": [
       "[('U50_1065_045.cnf', 19775),\n",
       " ('C1065_064.cnf', 19844),\n",
       " ('U50_1065_038.cnf', 19864),\n",
       " ('C1065_082.cnf', 19877),\n",
       " ('C1597_024.cnf', 30158),\n",
       " ('U75_1597_024.cnf', 30158),\n",
       " ('C1597_060.cnf', 30218),\n",
       " ('C1597_081.cnf', 30291),\n",
       " ('C200_1806.cnf', 32161),\n",
       " ('C181_3151.cnf', 36885),\n",
       " ('C459_4675.cnf', 59299),\n",
       " ('C208_120.cnf', 61633),\n",
       " ('C168_128.cnf', 72588),\n",
       " ('C210_55.cnf', 82972),\n",
       " ('C140.cnf', 95632),\n",
       " ('U50_4450_035.cnf', 112223),\n",
       " ('C210_30.cnf', 126865),\n",
       " ('C208_3254.cnf', 143054),\n",
       " ('C175_145.cnf', 520983),\n",
       " ('C53_895.cnf', 1516599),\n",
       " ('C289_179.cnf', 3949938),\n",
       " ('C243_188.cnf', 30512332)]"
      ]
     },
     "execution_count": 54,
     "metadata": {},
     "output_type": "execute_result"
    }
   ],
   "source": [
    "\n",
    "d = {}\n",
    "for filepath in reference:\n",
    "    with open(f\"./input/{filepath}\") as f:\n",
    "        d[filepath] = len(f.read())\n",
    "\n",
    "sorted(d.items(), key=lambda x: x[1])"
   ]
  },
  {
   "cell_type": "code",
   "execution_count": null,
   "metadata": {},
   "outputs": [],
   "source": []
  }
 ],
 "metadata": {
  "kernelspec": {
   "display_name": "prescriptive",
   "language": "python",
   "name": "python3"
  },
  "language_info": {
   "codemirror_mode": {
    "name": "ipython",
    "version": 3
   },
   "file_extension": ".py",
   "mimetype": "text/x-python",
   "name": "python",
   "nbconvert_exporter": "python",
   "pygments_lexer": "ipython3",
   "version": "3.10.16"
  }
 },
 "nbformat": 4,
 "nbformat_minor": 2
}
