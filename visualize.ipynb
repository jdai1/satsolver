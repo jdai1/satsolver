{
 "cells": [
  {
   "cell_type": "code",
   "execution_count": 17,
   "metadata": {},
   "outputs": [],
   "source": [
    "reference = {\n",
    "    \"C1065_064.cnf\": \"UNSAT\",\n",
    "    \"C1065_082.cnf\": \"UNSAT\",\n",
    "    \"C140.cnf\": \"SAT\",\n",
    "    \"C1597_024.cnf\": \"SAT\",\n",
    "    \"C1597_060.cnf\": \"SAT\",\n",
    "    \"C1597_081.cnf\": \"SAT\",\n",
    "    \"C168_128.cnf\": \"UNSAT\",\n",
    "    \"C175_145.cnf\": \"SAT\",\n",
    "    \"C181_3151.cnf\": \"SAT\",\n",
    "    \"C200_1806.cnf\": \"UNSAT\",\n",
    "    \"C208_120.cnf\": \"UNSAT\",\n",
    "    \"C208_3254.cnf\": \"UNSAT\",\n",
    "    \"C210_30.cnf\": \"UNSAT\",\n",
    "    \"C210_55.cnf\": \"UNSAT\",\n",
    "    \"C243_188.cnf\": \"SAT\",\n",
    "    \"C289_179.cnf\": \"UNSAT\",\n",
    "    \"C459_4675.cnf\": \"SAT\",\n",
    "    \"C53_895.cnf\": \"UNSAT\",\n",
    "    \"U50_1065_038.cnf\": \"UNSAT\",\n",
    "    \"U50_1065_045.cnf\": \"UNSAT\",\n",
    "    \"U50_4450_035.cnf\": \"SAT\",\n",
    "    \"U75_1597_024.cnf\": \"SAT\",\n",
    "}"
   ]
  },
  {
   "cell_type": "code",
   "execution_count": 32,
   "metadata": {},
   "outputs": [],
   "source": [
    "import json\n",
    "\n",
    "def compute_data_from_log(log_filepath: str) -> list:\n",
    "    data = []\n",
    "    with open(log_filepath, \"r\") as f:\n",
    "        for line in f:\n",
    "            res = json.loads(line.strip())\n",
    "            if \"Solution\" in res:\n",
    "                del res[\"Solution\"]\n",
    "            filename = res[\"Instance\"]\n",
    "            reference_output = reference[res[\"Instance\"]]\n",
    "            computed_output = res[\"Result\"]\n",
    "            if computed_output != \"--\":\n",
    "                correct = reference_output == computed_output\n",
    "                if not correct:\n",
    "                    print(f\"{filename}: Expected {reference_output}, but got {computed_output}\")\n",
    "            data.append({\n",
    "                \"Filename\": filename,\n",
    "                \"Time\": res[\"Time\"],\n",
    "            })\n",
    "    print(\"Unsolved:\")\n",
    "    for r in data:\n",
    "        if r[\"Time\"] == \"--\":\n",
    "            print(r)\n",
    "    return data"
   ]
  },
  {
   "cell_type": "code",
   "execution_count": 33,
   "metadata": {},
   "outputs": [
    {
     "name": "stdout",
     "output_type": "stream",
     "text": [
      "Unsolved:\n",
      "{'Filename': 'C1065_064.cnf', 'Time': '--'}\n",
      "{'Filename': 'C1065_082.cnf', 'Time': '--'}\n",
      "{'Filename': 'C1597_024.cnf', 'Time': '--'}\n",
      "{'Filename': 'C1597_060.cnf', 'Time': '--'}\n",
      "{'Filename': 'C1597_081.cnf', 'Time': '--'}\n",
      "{'Filename': 'C175_145.cnf', 'Time': '--'}\n",
      "{'Filename': 'C200_1806.cnf', 'Time': '--'}\n",
      "{'Filename': 'C208_120.cnf', 'Time': '--'}\n",
      "{'Filename': 'C210_55.cnf', 'Time': '--'}\n",
      "{'Filename': 'C243_188.cnf', 'Time': '--'}\n",
      "{'Filename': 'C289_179.cnf', 'Time': '--'}\n",
      "{'Filename': 'C53_895.cnf', 'Time': '--'}\n",
      "{'Filename': 'U50_4450_035.cnf', 'Time': '--'}\n",
      "{'Filename': 'U75_1597_024.cnf', 'Time': '--'}\n"
     ]
    },
    {
     "data": {
      "text/plain": [
       "[{'Filename': 'C1065_064.cnf', 'Time': '--'},\n",
       " {'Filename': 'C1065_082.cnf', 'Time': '--'},\n",
       " {'Filename': 'C140.cnf', 'Time': '1.67'},\n",
       " {'Filename': 'C1597_024.cnf', 'Time': '--'},\n",
       " {'Filename': 'C1597_060.cnf', 'Time': '--'},\n",
       " {'Filename': 'C1597_081.cnf', 'Time': '--'},\n",
       " {'Filename': 'C168_128.cnf', 'Time': '26.50'},\n",
       " {'Filename': 'C175_145.cnf', 'Time': '--'},\n",
       " {'Filename': 'C181_3151.cnf', 'Time': '13.57'},\n",
       " {'Filename': 'C200_1806.cnf', 'Time': '--'},\n",
       " {'Filename': 'C208_120.cnf', 'Time': '--'},\n",
       " {'Filename': 'C208_3254.cnf', 'Time': '2.35'},\n",
       " {'Filename': 'C210_30.cnf', 'Time': '31.68'},\n",
       " {'Filename': 'C210_55.cnf', 'Time': '--'},\n",
       " {'Filename': 'C243_188.cnf', 'Time': '--'},\n",
       " {'Filename': 'C289_179.cnf', 'Time': '--'},\n",
       " {'Filename': 'C459_4675.cnf', 'Time': '24.21'},\n",
       " {'Filename': 'C53_895.cnf', 'Time': '--'},\n",
       " {'Filename': 'U50_1065_038.cnf', 'Time': '213.89'},\n",
       " {'Filename': 'U50_1065_045.cnf', 'Time': '286.38'},\n",
       " {'Filename': 'U50_4450_035.cnf', 'Time': '--'},\n",
       " {'Filename': 'U75_1597_024.cnf', 'Time': '--'}]"
      ]
     },
     "execution_count": 33,
     "metadata": {},
     "output_type": "execute_result"
    }
   ],
   "source": [
    "log_filepath = \"./results-base.log\"\n",
    "compute_data_from_log(log_filepath)"
   ]
  },
  {
   "cell_type": "code",
   "execution_count": 34,
   "metadata": {},
   "outputs": [
    {
     "name": "stdout",
     "output_type": "stream",
     "text": [
      "Unsolved:\n",
      "{'Filename': 'C1597_024.cnf', 'Time': '--'}\n",
      "{'Filename': 'C1597_060.cnf', 'Time': '--'}\n",
      "{'Filename': 'C1597_081.cnf', 'Time': '--'}\n",
      "{'Filename': 'C175_145.cnf', 'Time': '--'}\n",
      "{'Filename': 'C200_1806.cnf', 'Time': '--'}\n"
     ]
    },
    {
     "data": {
      "text/plain": [
       "[{'Filename': 'C1065_064.cnf', 'Time': '256.35'},\n",
       " {'Filename': 'C1065_082.cnf', 'Time': '253.61'},\n",
       " {'Filename': 'C140.cnf', 'Time': '1.43'},\n",
       " {'Filename': 'C1597_024.cnf', 'Time': '--'},\n",
       " {'Filename': 'C1597_060.cnf', 'Time': '--'},\n",
       " {'Filename': 'C1597_081.cnf', 'Time': '--'},\n",
       " {'Filename': 'C168_128.cnf', 'Time': '5.25'},\n",
       " {'Filename': 'C175_145.cnf', 'Time': '--'},\n",
       " {'Filename': 'C181_3151.cnf', 'Time': '7.33'},\n",
       " {'Filename': 'C200_1806.cnf', 'Time': '--'}]"
      ]
     },
     "execution_count": 34,
     "metadata": {},
     "output_type": "execute_result"
    }
   ],
   "source": [
    "log_filepath = \"./results-no-copy.log\"\n",
    "compute_data_from_log(log_filepath)"
   ]
  },
  {
   "cell_type": "code",
   "execution_count": 36,
   "metadata": {},
   "outputs": [
    {
     "name": "stdout",
     "output_type": "stream",
     "text": [
      "Unsolved:\n",
      "{'Filename': 'C175_145.cnf', 'Time': '--'}\n",
      "{'Filename': 'C200_1806.cnf', 'Time': '--'}\n",
      "{'Filename': 'C243_188.cnf', 'Time': '--'}\n",
      "{'Filename': 'C289_179.cnf', 'Time': '--'}\n",
      "{'Filename': 'C53_895.cnf', 'Time': '--'}\n",
      "{'Filename': 'U50_4450_035.cnf', 'Time': '--'}\n",
      "{'Filename': 'U75_1597_024.cnf', 'Time': '--'}\n"
     ]
    },
    {
     "data": {
      "text/plain": [
       "[{'Filename': 'C1065_064.cnf', 'Time': '52.41'},\n",
       " {'Filename': 'C1065_082.cnf', 'Time': '31.68'},\n",
       " {'Filename': 'C140.cnf', 'Time': '0.05'},\n",
       " {'Filename': 'C1597_024.cnf', 'Time': '139.01'},\n",
       " {'Filename': 'C1597_060.cnf', 'Time': '88.19'},\n",
       " {'Filename': 'C1597_081.cnf', 'Time': '11.95'},\n",
       " {'Filename': 'C168_128.cnf', 'Time': '1.74'},\n",
       " {'Filename': 'C175_145.cnf', 'Time': '--'},\n",
       " {'Filename': 'C181_3151.cnf', 'Time': '0.84'},\n",
       " {'Filename': 'C200_1806.cnf', 'Time': '--'},\n",
       " {'Filename': 'C208_120.cnf', 'Time': '0.96'},\n",
       " {'Filename': 'C208_3254.cnf', 'Time': '2.17'},\n",
       " {'Filename': 'C210_30.cnf', 'Time': '0.06'},\n",
       " {'Filename': 'C210_55.cnf', 'Time': '0.24'},\n",
       " {'Filename': 'C243_188.cnf', 'Time': '--'},\n",
       " {'Filename': 'C289_179.cnf', 'Time': '--'},\n",
       " {'Filename': 'C459_4675.cnf', 'Time': '0.31'},\n",
       " {'Filename': 'C53_895.cnf', 'Time': '--'},\n",
       " {'Filename': 'U50_1065_038.cnf', 'Time': '46.37'},\n",
       " {'Filename': 'U50_1065_045.cnf', 'Time': '67.51'},\n",
       " {'Filename': 'U50_4450_035.cnf', 'Time': '--'},\n",
       " {'Filename': 'U75_1597_024.cnf', 'Time': '--'}]"
      ]
     },
     "execution_count": 36,
     "metadata": {},
     "output_type": "execute_result"
    }
   ],
   "source": [
    "log_filepath = \"./results-dppl2.log\"\n",
    "compute_data_from_log(log_filepath)"
   ]
  },
  {
   "cell_type": "code",
   "execution_count": null,
   "metadata": {},
   "outputs": [],
   "source": []
  }
 ],
 "metadata": {
  "kernelspec": {
   "display_name": "prescriptive",
   "language": "python",
   "name": "python3"
  },
  "language_info": {
   "codemirror_mode": {
    "name": "ipython",
    "version": 3
   },
   "file_extension": ".py",
   "mimetype": "text/x-python",
   "name": "python",
   "nbconvert_exporter": "python",
   "pygments_lexer": "ipython3",
   "version": "3.10.16"
  }
 },
 "nbformat": 4,
 "nbformat_minor": 2
}
